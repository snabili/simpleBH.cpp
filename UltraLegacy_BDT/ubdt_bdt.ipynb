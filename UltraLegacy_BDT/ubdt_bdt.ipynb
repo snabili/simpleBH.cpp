{
 "cells": [
  {
   "cell_type": "code",
   "execution_count": 7,
   "id": "b0405296",
   "metadata": {},
   "outputs": [],
   "source": [
    "import numpy as np\n",
    "import xgboost as xgb\n",
    "from sklearn.model_selection import train_test_split\n",
    "from sklearn.metrics import confusion_matrix, roc_curve, roc_auc_score, auc\n",
    "import glob\n",
    "import matplotlib.pyplot as plt\n",
    "from time import strftime\n",
    "from hep_ml import uboost\n",
    "import pandas as pd\n",
    "from matplotlib.colors import LogNorm"
   ]
  },
  {
   "cell_type": "code",
   "execution_count": 8,
   "id": "f033f8d8",
   "metadata": {},
   "outputs": [
    {
     "data": {
      "text/plain": [
       "\"\\n0.    subl.girth, \\n1.    subl.ptD, \\n2.    subl.axismajor, \\n3.    subl.axisminor,\\n4.    subl.ecfM2b1, \\n5.    subl.ecfD2b1, \\n6.    subl.ecfC2b1, \\n7.    subl.ecfN2b2,\\n8.    subl.metdphi,\\n9.    subl.pt, \\n10.   subl.eta, \\n11.   subl.phi, \\n12.   subl.energy, \\n13.   subl.rt, \\n14.   subl.mt, \\n15.   subl.multiplicity, \\n16.   event[b'MET']\\n\""
      ]
     },
     "execution_count": 8,
     "metadata": {},
     "output_type": "execute_result"
    }
   ],
   "source": [
    "# Truth matched variables order \n",
    "# in signal events\n",
    "'''\n",
    "0.    subl.girth, \n",
    "1.    subl.ptD, \n",
    "2.    subl.axismajor, \n",
    "3.    subl.axisminor,\n",
    "4.    subl.ecfM2b1, \n",
    "5.    subl.ecfD2b1, \n",
    "6.    subl.ecfC2b1, \n",
    "7.    subl.ecfN2b2,\n",
    "8.    subl.metdphi,\n",
    "9.    subl.pt, \n",
    "10.   subl.eta, \n",
    "11.   subl.phi, \n",
    "12.   subl.energy, \n",
    "13.   subl.rt, \n",
    "14.   subl.mt, \n",
    "15.   subl.multiplicity, \n",
    "16.   event[b'MET']\n",
    "'''"
   ]
  },
  {
   "cell_type": "code",
   "execution_count": 9,
   "id": "3a386ce5",
   "metadata": {},
   "outputs": [],
   "source": [
    "qcd_bin = [np.load('/home/snabili/Data_ControlRegion/svj-bdt/npzfiles/allbdt_var/qcd_bin'+str(n) +'.npz') for n in range(0,9)]\n",
    "ttjets_bin = [np.load('/home/snabili/Data_ControlRegion/svj-bdt/npzfiles/allbdt_var/ttjet_bin'+str(n) +'.npz') for n in range(0,8)]\n",
    "\n",
    "\n",
    "labels_extended_scenario4 = ['subl.girth', 'subl.ptD', 'subl.axismajor', 'subl.axisminor', \n",
    "        'subl.ecfM2b1', 'subl.ecfD2b1', 'subl.ecfC2b1', \n",
    "        'subl.ecfN2b2', 'subl.metdphi', 'eta', 'phi', 'mt']\n",
    "\n",
    "\n",
    "QCD0_ext_sc4 = np.transpose(np.array([qcd_bin[0][k][qcd_bin[0]['rt']>1.1] for k in labels_extended_scenario4]))\n",
    "QCD1_ext_sc4 = np.transpose(np.array([qcd_bin[1][k][qcd_bin[1]['rt']>1.1] for k in labels_extended_scenario4]))\n",
    "QCD2_ext_sc4 = np.transpose(np.array([qcd_bin[2][k][qcd_bin[2]['rt']>1.1] for k in labels_extended_scenario4]))\n",
    "QCD3_ext_sc4 = np.transpose(np.array([qcd_bin[3][k][qcd_bin[3]['rt']>1.1] for k in labels_extended_scenario4]))\n",
    "QCD4_ext_sc4 = np.transpose(np.array([qcd_bin[4][k][qcd_bin[4]['rt']>1.1] for k in labels_extended_scenario4]))\n",
    "QCD5_ext_sc4 = np.transpose(np.array([qcd_bin[5][k][qcd_bin[5]['rt']>1.1] for k in labels_extended_scenario4]))\n",
    "QCD6_ext_sc4 = np.transpose(np.array([qcd_bin[6][k][qcd_bin[6]['rt']>1.1] for k in labels_extended_scenario4]))\n",
    "QCD7_ext_sc4 = np.transpose(np.array([qcd_bin[7][k][qcd_bin[7]['rt']>1.1] for k in labels_extended_scenario4]))\n",
    "QCD8_ext_sc4 = np.transpose(np.array([qcd_bin[8][k][qcd_bin[8]['rt']>1.1] for k in labels_extended_scenario4]))\n",
    "\n",
    "TTJets0_ext_sc4 = np.transpose(np.array([ttjets_bin[0][k][ttjets_bin[0]['rt']>1.1] for k in labels_extended_scenario4]))\n",
    "TTJets1_ext_sc4 = np.transpose(np.array([ttjets_bin[1][k][ttjets_bin[1]['rt']>1.1] for k in labels_extended_scenario4]))\n",
    "TTJets2_ext_sc4 = np.transpose(np.array([ttjets_bin[2][k][ttjets_bin[2]['rt']>1.1] for k in labels_extended_scenario4]))\n",
    "TTJets3_ext_sc4 = np.transpose(np.array([ttjets_bin[3][k][ttjets_bin[3]['rt']>1.1] for k in labels_extended_scenario4]))\n",
    "TTJets4_ext_sc4 = np.transpose(np.array([ttjets_bin[4][k][ttjets_bin[4]['rt']>1.1] for k in labels_extended_scenario4]))\n",
    "TTJets5_ext_sc4 = np.transpose(np.array([ttjets_bin[5][k][ttjets_bin[5]['rt']>1.1] for k in labels_extended_scenario4]))\n",
    "TTJets6_ext_sc4 = np.transpose(np.array([ttjets_bin[6][k][ttjets_bin[6]['rt']>1.1] for k in labels_extended_scenario4]))\n",
    "TTJets7_ext_sc4 = np.transpose(np.array([ttjets_bin[7][k][ttjets_bin[7]['rt']>1.1] for k in labels_extended_scenario4]))\n"
   ]
  },
  {
   "cell_type": "code",
   "execution_count": 10,
   "id": "865aa75c",
   "metadata": {},
   "outputs": [],
   "source": [
    "def get_bkg_features_ext(sets_of_npzs, weights, n_target_events):\n",
    "    weights /= np.sum(weights) # normalize\n",
    "    n_events_per_set = (weights * n_target_events).astype(np.int32)\n",
    "    X_combined = []\n",
    "    for n_events, npzs in zip(n_events_per_set, sets_of_npzs):\n",
    "        n_events_todo = n_events\n",
    "        if npzs.shape[0] > n_events:\n",
    "            X = npzs[:n_events]\n",
    "        X_combined.append(X)\n",
    "    X_final = np.vstack(X_combined)\n",
    "    assert len(X_final.shape) == 2\n",
    "    assert X_final.shape[1] == 12 # Scenario IV eta, phi and mt included\n",
    "    print(X_final.shape)\n",
    "    return X_final"
   ]
  },
  {
   "cell_type": "code",
   "execution_count": 11,
   "id": "b6caf139",
   "metadata": {},
   "outputs": [],
   "source": [
    "def get_sig_features_ext(sets_of_npzs, weights, n_target_events):\n",
    "    weights /= np.sum(weights) # normalize\n",
    "    n_events_per_set = (weights * n_target_events).astype(np.int32)\n",
    "    X_combined = []\n",
    "    l1 = np.append(np.arange(0,9,1), np.arange(10,12,1)) # Scenario IV including eta, phi \n",
    "    l = np.append(l1,14) # appending mt \n",
    "    for n_events, npzs in zip(n_events_per_set, sets_of_npzs):\n",
    "        n_events_todo = n_events\n",
    "        for npz in npzs:\n",
    "            if np.load(npz)['X'].shape[0] == 0: continue\n",
    "            X = np.load(npz)['X'][:,l]\n",
    "            n_events_this_npz = X.shape[0]\n",
    "            if n_events_this_npz > n_events_todo:\n",
    "                X = X[:n_events_todo]\n",
    "            X_combined.append(X)\n",
    "            n_events_todo -= X.shape[0]\n",
    "            if n_events_todo == 0: break\n",
    "        else:\n",
    "            print(f'Warning: reached end of set of files with n_events_todo={n_events_todo}')\n",
    "\n",
    "    X_final = np.vstack(X_combined)\n",
    "    assert len(X_final.shape) == 2\n",
    "    assert X_final.shape[1] == 12 # Scenario IV eta, phi and mt included\n",
    "    print(X_final.shape)\n",
    "    return X_final"
   ]
  },
  {
   "cell_type": "code",
   "execution_count": 12,
   "id": "3c4e8a44",
   "metadata": {},
   "outputs": [
    {
     "name": "stdout",
     "output_type": "stream",
     "text": [
      "(49992, 12)\n",
      "(9999, 12)\n"
     ]
    }
   ],
   "source": [
    "labels_sig = ['mz250', 'mz350', 'mz450']\n",
    "sig_npzfiles = [ glob.iglob(f'/mnt/hadoop/cms/store/user/snabili/UltraLegacy_npz/PreBDT_Signal_10312022_highstat_met_TREEMAKER/madpt300_{l}_mdark10_rinv0.3/*.npz') for l in labels_sig]\n",
    "sig_xsec = [1, 1, 1]\n",
    "\n",
    "qcd_xsec = np.array([7823, 648.2, 186.9, 32.293, 9.4183, 0.84265, .114943, .00682981, .000165445])\n",
    "ttjets_xsec = np.array([831.76, 182.72, 182.72, 88.34, 2.685, 1.096, 0.194, 0.002])\n",
    "\n",
    "bkg_xsec = np.append(qcd_xsec, ttjets_xsec)\n",
    "\n",
    "qcd_eff    = np.array([len(qcd_bin[i]['pt'][qcd_bin[i]['rt']>1.1])/qcd_bin[i]['total'] for i in range(0, len(qcd_bin))])\n",
    "ttjets_eff = np.array([len(ttjets_bin[i]['pt'][ttjets_bin[i]['rt']>1.1])/ttjets_bin[i]['total'] for i in range(0, len(ttjets_bin))])\n",
    "\n",
    "bkg_eff = np.append(qcd_eff, ttjets_eff)\n",
    "crosssections = bkg_eff * bkg_xsec\n",
    "\n",
    "#Scenario II\n",
    "sets_of_npzs_ext_sc4 = [QCD0_ext_sc4, QCD1_ext_sc4, QCD2_ext_sc4, QCD3_ext_sc4, QCD4_ext_sc4, QCD5_ext_sc4, QCD6_ext_sc4, QCD7_ext_sc4, QCD8_ext_sc4, TTJets0_ext_sc4, TTJets1_ext_sc4, TTJets2_ext_sc4, TTJets3_ext_sc4, TTJets4_ext_sc4, TTJets5_ext_sc4, TTJets6_ext_sc4, TTJets7_ext_sc4]\n",
    "X_bkg_ext_sc4 = get_bkg_features_ext(sets_of_npzs_ext_sc4, crosssections, 50000)\n",
    "y_bkg_ext_sc4 = np.zeros(X_bkg_ext_sc4.shape[0])\n",
    "X_sig_ext_sc4 = get_sig_features_ext(sig_npzfiles, sig_xsec,10000)\n",
    "y_sig_ext_sc4 = np.ones(X_sig_ext_sc4.shape[0])"
   ]
  },
  {
   "cell_type": "code",
   "execution_count": 13,
   "id": "74bb6142",
   "metadata": {},
   "outputs": [
    {
     "name": "stdout",
     "output_type": "stream",
     "text": [
      "(59991, 12) (59991,)\n",
      "y: [1 1 1 ... 0 0 0]\n",
      "y.shape[0]/np.sum(y): 5.999699969997\n"
     ]
    }
   ],
   "source": [
    "X_ext_sc4 = np.vstack((X_sig_ext_sc4, X_bkg_ext_sc4))\n",
    "y_ext_sc4 = np.concatenate((y_sig_ext_sc4, y_bkg_ext_sc4)).astype(np.int8)\n",
    "print(X_ext_sc4.shape, y_ext_sc4.shape)\n",
    "print(f'y: {y_ext_sc4}')\n",
    "print(f'y.shape[0]/np.sum(y): {y_ext_sc4.shape[0]/np.sum(y_ext_sc4)}')\n",
    "X_train_ext_sc4, X_test_ext_sc4, y_train_ext_sc4, y_test_ext_sc4 = train_test_split(X_ext_sc4, y_ext_sc4, test_size=.5)\n",
    "y_train_ext_sc4 = y_train_ext_sc4.astype(np.int8)\n",
    "y_test_ext_sc4 = y_test_ext_sc4.astype(np.int8)\n"
   ]
  },
  {
   "cell_type": "code",
   "execution_count": 14,
   "id": "46164ceb",
   "metadata": {},
   "outputs": [],
   "source": [
    "cls_sc4 = ['subl.girth', 'subl.ptD', 'subl.axismajor', 'subl.axisminor', \n",
    "        'subl.ecfM2b1', 'subl.ecfD2b1', 'subl.ecfC2b1', \n",
    "        'subl.ecfN2b2', 'subl.metdphi', 'eta', 'phi', 'mt']\n",
    "\n",
    "pd_x_train_ext_sc4 = pd.DataFrame(X_train_ext_sc4, columns=cls_sc4)\n",
    "pd_x_test_ext_sc4  = pd.DataFrame(X_test_ext_sc4,  columns=cls_sc4)"
   ]
  },
  {
   "cell_type": "code",
   "execution_count": null,
   "id": "3ab5e1e2",
   "metadata": {},
   "outputs": [],
   "source": [
    "base_tree = uboost.DecisionTreeClassifier(max_depth=4)\n",
    "model_sc4 = uboost.uBoostClassifier(uniform_features=['mt'], uniform_label=0, base_estimator=base_tree, train_features=cls_sc4[:len(cls_sc4)], n_estimators=100)\n",
    "model_sc4.fit(pd_x_train_ext_sc4, y_train_ext_sc4)\n"
   ]
  },
  {
   "cell_type": "code",
   "execution_count": null,
   "id": "52f96fe1",
   "metadata": {},
   "outputs": [],
   "source": [
    "y_pred_ext_sc4 = model_sc4.predict(pd_x_test_ext_sc4)\n",
    "y_prob_ext_sc4 = model_sc4.predict_proba(pd_x_test_ext_sc4)[:,1]\n",
    "y_prob_sig_ext_sc4 = y_prob_ext_sc4[y_test_ext_sc4 == 1]\n",
    "y_prob_bkg_ext_sc4 = y_prob_ext_sc4[y_test_ext_sc4 == 0]"
   ]
  },
  {
   "cell_type": "code",
   "execution_count": null,
   "id": "8899d399",
   "metadata": {},
   "outputs": [],
   "source": [
    "fig, (ax1) = plt.subplots(1, 1, sharey=True, figsize=(10, 6))\n",
    "fig.suptitle('Bkg(QCD+TTJets) & Sig(truth-matched) uBDT scores ($\\eta_{J_2}, \\phi_{J_2}$)', fontsize=18, y = 0.97)\n",
    "\n",
    "ax1.hist(y_prob_sig_ext_sc4, label='sig', density=True, bins=15)\n",
    "ax1.hist(y_prob_bkg_ext_sc4, label='qcd', alpha=.5, density=True, bins=15)\n",
    "ax1.legend(fontsize=18)\n",
    "ax1.grid()\n",
    "ax1.set_xlabel('uBDT score', fontsize=18)\n",
    "ax1.set_ylabel('A.U.', fontsize=18)\n",
    "plt.savefig('ubdt_vs_bdt_study/ubdt_scores_scenario4.png')\n"
   ]
  },
  {
   "cell_type": "code",
   "execution_count": null,
   "id": "dc57b8a5",
   "metadata": {},
   "outputs": [],
   "source": [
    "fig, (ax1) = plt.subplots(1, 1, sharey=True, figsize=(10, 6))\n",
    "fig.suptitle('Bkg(QCD+TTJets) $M_{T,J_2}$ with uBDT cuts', fontsize=18, y = 0.99)\n",
    "\n",
    "e_sc4 = X_test_ext_sc4.shape[1]-1\n",
    "ax1.hist(X_test_ext_sc4[:,e_sc4][(y_test_ext_sc4==0) & (y_prob_ext_sc4>0.7)], bins=30, label='ubdt>0.70', density=True)\n",
    "ax1.hist(X_test_ext_sc4[:,e_sc4][(y_test_ext_sc4==0) & (y_prob_ext_sc4>0.65)], bins=30, label='ubdt>0.65', density=True, alpha=0.4)\n",
    "ax1.hist(X_test_ext_sc4[:,e_sc4][ y_test_ext_sc4==0], bins=30, alpha=0.4, label='no ubdt', density=True)\n",
    "ax1.legend(fontsize=18)\n",
    "ax1.set_title('$\\eta_{J_2}, \\phi_{J_2}$')\n",
    "ax1.grid()\n",
    "ax1.set_ylabel('A.U.', fontsize=18)\n",
    "ax1.set_xlabel('$M_{T,J_2}$ (GeV)', fontsize=18)\n",
    "plt.savefig('ubdt_vs_bdt_study/MT_uBDT_scenario4.png')\n"
   ]
  },
  {
   "cell_type": "code",
   "execution_count": null,
   "id": "3c2a8de7",
   "metadata": {},
   "outputs": [],
   "source": [
    "fig = plt.figure(figsize=(10,6))\n",
    "e_sc4 = X_test_ext_sc4.shape[1]-1\n",
    "plt.hist2d(X_test_ext_sc4[:,e_sc4][y_test_ext_sc4==0],y_prob_ext_sc4[y_test_ext_sc4==0], bins=40, norm = LogNorm())\n",
    "plt.colorbar()\n",
    "plt.xlabel('$M_{T,J2}$ (GeV)', fontsize=18)\n",
    "plt.ylabel('uBDT', fontsize=18)\n",
    "plt.grid()\n",
    "plt.title('Bkg(QCD+TTJets) uBDT vs $M_{T,J_2}$ ($\\eta_{J_2}, \\phi_{J_2}$)', fontsize=18)\n",
    "plt.savefig('ubdt_vs_bdt_study/ubdt_vs_mt_scenario4.png')"
   ]
  },
  {
   "cell_type": "code",
   "execution_count": null,
   "id": "8380f92b",
   "metadata": {},
   "outputs": [],
   "source": [
    "e_sc4 = X_test_ext_sc4.shape[1]-1\n",
    "b = np.arange(0,1500,50)\n",
    "ubdt0p70_sc4 = plt.hist(X_test_ext_sc4[:,e_sc4][(y_test_ext_sc4==0) & (y_prob_ext_sc4>0.70)], bins=b, label='ubdt>0.70', density=False)\n",
    "ubdt0p65_sc4 = plt.hist(X_test_ext_sc4[:,e_sc4][(y_test_ext_sc4==0) & (y_prob_ext_sc4>0.65)], bins=b, label='ubdt>0.65', density=False, alpha=0.4)\n",
    "ubdt0p60_sc4 = plt.hist(X_test_ext_sc4[:,e_sc4][(y_test_ext_sc4==0) & (y_prob_ext_sc4>0.60)], bins=b, label='ubdt>0.60', density=False, alpha=0.4)\n",
    "ubdt_sc4 = plt.hist(X_test_ext_sc4[:,e_sc4][(y_test_ext_sc4==0)], bins=b, label='no ubdt', density=False, alpha=0.4)\n",
    "\n",
    "plt.close()\n",
    "\n",
    "ratio_0p60_sc4 = np.divide(ubdt0p60_sc4[0], ubdt_sc4[0], where=(ubdt_sc4[0]>0))\n",
    "ratio_0p65_sc4 = np.divide(ubdt0p65_sc4[0], ubdt_sc4[0], where=(ubdt_sc4[0]>0))\n",
    "ratio_0p70_sc4 = np.divide(ubdt0p70_sc4[0], ubdt_sc4[0], where=(ubdt_sc4[0]>0))\n",
    "\n",
    "rotio_0p60_sc4 = ratio_0p60_sc4[(ubdt0p60_sc4[0]>0) & (ratio_0p60_sc4 > 0)]\n",
    "rotio_0p65_sc4 = ratio_0p65_sc4[(ubdt0p65_sc4[0]>0) & (ratio_0p65_sc4 > 0)]\n",
    "rotio_0p70_sc4 = ratio_0p70_sc4[(ubdt0p70_sc4[0]>0) & (ratio_0p70_sc4 > 0)]\n",
    "\n",
    "edges_0p60_sc4 = ubdt_sc4[1][:len(ubdt_sc4[1])-1][(ubdt_sc4[0]>0) & (ratio_0p60_sc4 > 0)]\n",
    "edges_0p65_sc4 = ubdt_sc4[1][:len(ubdt_sc4[1])-1][(ubdt_sc4[0]>0) & (ratio_0p65_sc4 > 0)]\n",
    "edges_0p70_sc4 = ubdt_sc4[1][:len(ubdt_sc4[1])-1][(ubdt_sc4[0]>0) & (ratio_0p70_sc4 > 0)]\n",
    "\n",
    "\n",
    "\n",
    "fig, (ax1) = plt.subplots(1, 1, sharey=True, figsize=(10, 6))\n",
    "fig.suptitle('Bkg eff uBDT cuts ($\\eta_{J_2}, \\phi_{J_2}, p_{T,J_2}$)', fontsize=18, y = 1)\n",
    "\n",
    "ax1.plot(edges_0p60_sc4, rotio_0p60_sc4, 'bo', label = 'ubdt > 0.60')\n",
    "ax1.plot(edges_0p65_sc4, rotio_0p65_sc4, 'ro', label = 'ubdt > 0.65')\n",
    "ax1.plot(edges_0p70_sc4, rotio_0p70_sc4, 'go', label = 'ubdt > 0.70')\n",
    "ax1.set_ylim(-5,5)\n",
    "ax1.grid()\n",
    "ax1.legend(fontsize=18)\n",
    "ax1.set_ylabel('Bkg eff', fontsize=18)\n",
    "ax1.set_xlabel('$M_{T,J_2}$ (GeV)', fontsize=18)\n",
    "plt.savefig('ubdt_vs_bdt_study/uBDTeff_vs_MT_scenario4.png')\n",
    "\n"
   ]
  },
  {
   "cell_type": "code",
   "execution_count": null,
   "id": "81b39805",
   "metadata": {},
   "outputs": [],
   "source": [
    "n_sc1 = X_test_ext_sc1.shape[1]-1\n",
    "n_sc2 = X_test_ext.shape[1]-1\n",
    "n_sc3 = X_test_ext_sc3.shape[1]-1\n",
    "n_sc4 = X_test_ext_sc4.shape[1]-1\n",
    "n_bdt = X_test_ext.shape[1]-1\n",
    "\n",
    "bkg_ubdt_eff_sc1 = np.zeros(5)\n",
    "bkg_ubdt_eff_sc2 = np.zeros(5)\n",
    "bkg_ubdt_eff_sc3 = np.zeros(5)\n",
    "bkg_ubdt_eff_sc4 = np.zeros(5)\n",
    "bkg_bdt_eff = np.zeros(5)\n",
    "\n",
    "sig_ubdt_eff_sc1 = np.zeros(5)\n",
    "sig_ubdt_eff_sc2 = np.zeros(5)\n",
    "sig_ubdt_eff_sc3 = np.zeros(5)\n",
    "sig_ubdt_eff_sc4 = np.zeros(5)\n",
    "sig_bdt_eff = np.zeros(5)\n",
    "\n",
    "cuts = np.array([0.5, 0.55, 0.6, 0.65, 0.7])\n",
    "\n",
    "for i in range(0,len(cuts)):\n",
    "    bkg_ubdt_eff_sc1[i] = len(X_test_ext_sc1[:,n_sc1][(y_test_ext_sc1==0) & (y_prob_ext_sc1>cuts[i])])/len(X_test_ext_sc1[:,n_sc1][y_test_ext_sc1==0])\n",
    "    bkg_ubdt_eff_sc2[i] = len(X_test_ext[:,n_sc2][(y_test_ext==0) & (y_prob_ext>cuts[i])])/len(X_test_ext[:,n_sc2][y_test_ext==0])\n",
    "    bkg_ubdt_eff_sc3[i] = len(X_test_ext_sc3[:,n_sc3][(y_test_ext_sc3==0) & (y_prob_ext_sc3>cuts[i])])/len(X_test_ext_sc3[:,n_sc3][y_test_ext_sc3==0])\n",
    "    bkg_ubdt_eff_sc4[i] = len(X_test_ext_sc4[:,n_sc4][(y_test_ext_sc4==0) & (y_prob_ext_sc4>cuts[i])])/len(X_test_ext_sc4[:,n_sc4][y_test_ext_sc4==0])\n",
    "    bkg_bdt_eff[i]     = len(X_test_ext[:,n_bdt][(y_test==0) & (y_prob>cuts[i])])/len(X_test_ext[:,n_bdt][y_test==0])\n",
    "\n",
    "    sig_ubdt_eff_sc1[i] = len(X_test_ext_sc1[:,n_sc1][(y_test_ext_sc1==1) & (y_prob_ext_sc1>cuts[i])])/len(X_test_ext_sc1[:,n_sc1][y_test_ext_sc1==1])\n",
    "    sig_ubdt_eff_sc2[i] = len(X_test_ext[:,n_sc2][(y_test_ext==1) & (y_prob_ext>cuts[i])])/len(X_test_ext[:,n_sc2][y_test_ext==1])\n",
    "    sig_ubdt_eff_sc3[i] = len(X_test_ext_sc3[:,n_sc3][(y_test_ext_sc3==1) & (y_prob_ext_sc3>cuts[i])])/len(X_test_ext_sc3[:,n_sc3][y_test_ext_sc3==1])\n",
    "    sig_ubdt_eff_sc4[i] = len(X_test_ext_sc4[:,n_sc4][(y_test_ext_sc4==1) & (y_prob_ext_sc4>cuts[i])])/len(X_test_ext_sc4[:,n_sc4][y_test_ext_sc4==1])\n",
    "    sig_bdt_eff[i]     = len(X_test_ext[:,n_bdt][(y_test==1) & (y_prob>cuts[i])])/len(X_test_ext[:,n_bdt][y_test==1])\n",
    "\n",
    "\n",
    "    \n",
    "print(bkg_ubdt_eff_sc4)\n",
    "print(sig_ubdt_eff_sc4)"
   ]
  },
  {
   "cell_type": "code",
   "execution_count": null,
   "id": "569e774a",
   "metadata": {},
   "outputs": [],
   "source": [
    "eff_bkg_ext_sc4, eff_sig_ext_sc4, cuts_ext_sc4 = roc_curve(y_test_ext_sc4, y_prob_ext_sc4)\n",
    "\n",
    "\n",
    "fig = plt.figure(figsize=(10,6))\n",
    "ax = fig.gca()\n",
    "ax.plot([0,1], [0,1], c='gray')\n",
    "ax.plot(eff_bkg_ext_sc4, eff_sig_ext_sc4, c='green', label='uBDT Scenario IV = {:.5f}'.format(auc(eff_bkg_ext_sc4, eff_sig_ext_sc4)))\n",
    "ax.plot(bkg_ubdt_eff_sc4,sig_ubdt_eff_sc4,'ro')\n",
    "for index in range(len(bkg_ubdt_eff_sc4)):\n",
    "    ax.text(bkg_ubdt_eff_sc4[index], sig_ubdt_eff_sc4[index], cuts[index], size=22)\n",
    "\n",
    "#ax.set_ylim(0., 1.)\n",
    "#ax.set_xlim(0., 1.)\n",
    "ax.set_xlabel('Bkg efficiency', fontsize=18)\n",
    "ax.set_ylabel('Sig efficiency', fontsize=18)\n",
    "ax.legend(fontsize=18)\n",
    "ax.grid()\n",
    "ax.set_title('ROC: BDT & uBDT', fontsize=18)\n",
    "plt.savefig('ubdt_vs_bdt_study/roc_ubdt_sc4.png')\n",
    "\n"
   ]
  },
  {
   "cell_type": "code",
   "execution_count": null,
   "id": "5ce40748",
   "metadata": {},
   "outputs": [],
   "source": []
  }
 ],
 "metadata": {
  "kernelspec": {
   "display_name": "Python 3 (ipykernel)",
   "language": "python",
   "name": "python3"
  },
  "language_info": {
   "codemirror_mode": {
    "name": "ipython",
    "version": 3
   },
   "file_extension": ".py",
   "mimetype": "text/x-python",
   "name": "python",
   "nbconvert_exporter": "python",
   "pygments_lexer": "ipython3",
   "version": "3.9.7"
  }
 },
 "nbformat": 4,
 "nbformat_minor": 5
}
